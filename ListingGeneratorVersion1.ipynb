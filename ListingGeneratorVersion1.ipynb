{
  "nbformat": 4,
  "nbformat_minor": 0,
  "metadata": {
    "colab": {
      "name": "ListingGeneratorVersion1.ipynb",
      "provenance": [],
      "mount_file_id": "12SfC2ooYpOxONOi5xPdYhVP0rnPN-HDS",
      "authorship_tag": "ABX9TyNLLnJjtrAGVlclzdgy0zLV",
      "include_colab_link": true
    },
    "kernelspec": {
      "name": "python3",
      "display_name": "Python 3"
    },
    "language_info": {
      "name": "python"
    },
    "accelerator": "GPU"
  },
  "cells": [
    {
      "cell_type": "markdown",
      "metadata": {
        "id": "view-in-github",
        "colab_type": "text"
      },
      "source": [
        "<a href=\"https://colab.research.google.com/github/cspadine/ListingGenerator/blob/main/ListingGeneratorVersion1.ipynb\" target=\"_parent\"><img src=\"https://colab.research.google.com/assets/colab-badge.svg\" alt=\"Open In Colab\"/></a>"
      ]
    },
    {
      "cell_type": "markdown",
      "metadata": {
        "id": "K5E7dTsmnUWm"
      },
      "source": [
        "#Listing Generator, Version 1\n",
        "\n",
        "This is the first step in an ongoing process; the eventual goal is to create a model that will generate a description of a home that can be used in the listing to sell that home.\n",
        "\n",
        "As a first step, I'm using the tutorial here (https://www.kaggle.com/shivamb/beginners-guide-to-text-generation-using-lstms) to generate a basic word-level LSTM network to generate text based on a small sample of listings.  Subsequent work is going to build on this toy model to create the actual model.\n",
        "\n",
        "Future innovations (listed here so I can reference this list later, listed in no particular order): \n",
        "\n",
        "\n",
        "1.   add a data generator for the model: This tutorial will be useful https://stanford.edu/~shervine/blog/keras-how-to-generate-data-on-the-fly\n",
        "2.   Experiment with cleaning the data in different ways. I don't want individual phone numbers, for example, treated as tokens, because that's going to increase the number of features by a lot.\n",
        "3. Relatedly, use a word2vec model for vectorization.  \n",
        "4. Also relatedly, think more about how to handle certain named entities, like for example, specific bodies of water referenced in the listing (e.g., \"This house sits on the shore of Lake Whatever\", including \"Lake Whatever\" there probably isn't going to generalize well.)\n",
        "5. Incorporate other features, like number of bedrooms, whether or not the property has a pool, etc. from the listings.  My plan is to feed these features in along with the word vectors and see if that helps direct the output to be more reflective of a specific property.  However, I think in order to gauge how well this works, I'll need relatively cogent text coming out of the model.  If the output is gibberish, it is hard to evaluate whether it more accurately describes like a multi-family victorian-style house or a one-story bungalow, if that makes sense.\n",
        "\n"
      ]
    },
    {
      "cell_type": "code",
      "metadata": {
        "colab": {
          "base_uri": "https://localhost:8080/"
        },
        "id": "B24COkMKdpAR",
        "outputId": "2b27e29c-52b9-4eda-a7e1-d1fd6589bfef"
      },
      "source": [
        "!pip install tensorflow\n",
        "!pip install keras"
      ],
      "execution_count": 1,
      "outputs": [
        {
          "output_type": "stream",
          "text": [
            "Requirement already satisfied: tensorflow in /usr/local/lib/python3.7/dist-packages (2.5.0)\n",
            "Requirement already satisfied: astunparse~=1.6.3 in /usr/local/lib/python3.7/dist-packages (from tensorflow) (1.6.3)\n",
            "Requirement already satisfied: flatbuffers~=1.12.0 in /usr/local/lib/python3.7/dist-packages (from tensorflow) (1.12)\n",
            "Requirement already satisfied: absl-py~=0.10 in /usr/local/lib/python3.7/dist-packages (from tensorflow) (0.12.0)\n",
            "Requirement already satisfied: tensorboard~=2.5 in /usr/local/lib/python3.7/dist-packages (from tensorflow) (2.5.0)\n",
            "Requirement already satisfied: gast==0.4.0 in /usr/local/lib/python3.7/dist-packages (from tensorflow) (0.4.0)\n",
            "Requirement already satisfied: typing-extensions~=3.7.4 in /usr/local/lib/python3.7/dist-packages (from tensorflow) (3.7.4.3)\n",
            "Requirement already satisfied: wrapt~=1.12.1 in /usr/local/lib/python3.7/dist-packages (from tensorflow) (1.12.1)\n",
            "Requirement already satisfied: six~=1.15.0 in /usr/local/lib/python3.7/dist-packages (from tensorflow) (1.15.0)\n",
            "Requirement already satisfied: grpcio~=1.34.0 in /usr/local/lib/python3.7/dist-packages (from tensorflow) (1.34.1)\n",
            "Requirement already satisfied: tensorflow-estimator<2.6.0,>=2.5.0rc0 in /usr/local/lib/python3.7/dist-packages (from tensorflow) (2.5.0)\n",
            "Requirement already satisfied: google-pasta~=0.2 in /usr/local/lib/python3.7/dist-packages (from tensorflow) (0.2.0)\n",
            "Requirement already satisfied: wheel~=0.35 in /usr/local/lib/python3.7/dist-packages (from tensorflow) (0.36.2)\n",
            "Requirement already satisfied: numpy~=1.19.2 in /usr/local/lib/python3.7/dist-packages (from tensorflow) (1.19.5)\n",
            "Requirement already satisfied: opt-einsum~=3.3.0 in /usr/local/lib/python3.7/dist-packages (from tensorflow) (3.3.0)\n",
            "Requirement already satisfied: keras-preprocessing~=1.1.2 in /usr/local/lib/python3.7/dist-packages (from tensorflow) (1.1.2)\n",
            "Requirement already satisfied: keras-nightly~=2.5.0.dev in /usr/local/lib/python3.7/dist-packages (from tensorflow) (2.5.0.dev2021032900)\n",
            "Requirement already satisfied: h5py~=3.1.0 in /usr/local/lib/python3.7/dist-packages (from tensorflow) (3.1.0)\n",
            "Requirement already satisfied: protobuf>=3.9.2 in /usr/local/lib/python3.7/dist-packages (from tensorflow) (3.17.3)\n",
            "Requirement already satisfied: termcolor~=1.1.0 in /usr/local/lib/python3.7/dist-packages (from tensorflow) (1.1.0)\n",
            "Requirement already satisfied: setuptools>=41.0.0 in /usr/local/lib/python3.7/dist-packages (from tensorboard~=2.5->tensorflow) (57.0.0)\n",
            "Requirement already satisfied: markdown>=2.6.8 in /usr/local/lib/python3.7/dist-packages (from tensorboard~=2.5->tensorflow) (3.3.4)\n",
            "Requirement already satisfied: tensorboard-plugin-wit>=1.6.0 in /usr/local/lib/python3.7/dist-packages (from tensorboard~=2.5->tensorflow) (1.8.0)\n",
            "Requirement already satisfied: google-auth-oauthlib<0.5,>=0.4.1 in /usr/local/lib/python3.7/dist-packages (from tensorboard~=2.5->tensorflow) (0.4.4)\n",
            "Requirement already satisfied: tensorboard-data-server<0.7.0,>=0.6.0 in /usr/local/lib/python3.7/dist-packages (from tensorboard~=2.5->tensorflow) (0.6.1)\n",
            "Requirement already satisfied: werkzeug>=0.11.15 in /usr/local/lib/python3.7/dist-packages (from tensorboard~=2.5->tensorflow) (1.0.1)\n",
            "Requirement already satisfied: requests<3,>=2.21.0 in /usr/local/lib/python3.7/dist-packages (from tensorboard~=2.5->tensorflow) (2.23.0)\n",
            "Requirement already satisfied: google-auth<2,>=1.6.3 in /usr/local/lib/python3.7/dist-packages (from tensorboard~=2.5->tensorflow) (1.32.1)\n",
            "Requirement already satisfied: cached-property; python_version < \"3.8\" in /usr/local/lib/python3.7/dist-packages (from h5py~=3.1.0->tensorflow) (1.5.2)\n",
            "Requirement already satisfied: importlib-metadata; python_version < \"3.8\" in /usr/local/lib/python3.7/dist-packages (from markdown>=2.6.8->tensorboard~=2.5->tensorflow) (4.6.0)\n",
            "Requirement already satisfied: requests-oauthlib>=0.7.0 in /usr/local/lib/python3.7/dist-packages (from google-auth-oauthlib<0.5,>=0.4.1->tensorboard~=2.5->tensorflow) (1.3.0)\n",
            "Requirement already satisfied: chardet<4,>=3.0.2 in /usr/local/lib/python3.7/dist-packages (from requests<3,>=2.21.0->tensorboard~=2.5->tensorflow) (3.0.4)\n",
            "Requirement already satisfied: urllib3!=1.25.0,!=1.25.1,<1.26,>=1.21.1 in /usr/local/lib/python3.7/dist-packages (from requests<3,>=2.21.0->tensorboard~=2.5->tensorflow) (1.24.3)\n",
            "Requirement already satisfied: idna<3,>=2.5 in /usr/local/lib/python3.7/dist-packages (from requests<3,>=2.21.0->tensorboard~=2.5->tensorflow) (2.10)\n",
            "Requirement already satisfied: certifi>=2017.4.17 in /usr/local/lib/python3.7/dist-packages (from requests<3,>=2.21.0->tensorboard~=2.5->tensorflow) (2021.5.30)\n",
            "Requirement already satisfied: rsa<5,>=3.1.4; python_version >= \"3.6\" in /usr/local/lib/python3.7/dist-packages (from google-auth<2,>=1.6.3->tensorboard~=2.5->tensorflow) (4.7.2)\n",
            "Requirement already satisfied: pyasn1-modules>=0.2.1 in /usr/local/lib/python3.7/dist-packages (from google-auth<2,>=1.6.3->tensorboard~=2.5->tensorflow) (0.2.8)\n",
            "Requirement already satisfied: cachetools<5.0,>=2.0.0 in /usr/local/lib/python3.7/dist-packages (from google-auth<2,>=1.6.3->tensorboard~=2.5->tensorflow) (4.2.2)\n",
            "Requirement already satisfied: zipp>=0.5 in /usr/local/lib/python3.7/dist-packages (from importlib-metadata; python_version < \"3.8\"->markdown>=2.6.8->tensorboard~=2.5->tensorflow) (3.4.1)\n",
            "Requirement already satisfied: oauthlib>=3.0.0 in /usr/local/lib/python3.7/dist-packages (from requests-oauthlib>=0.7.0->google-auth-oauthlib<0.5,>=0.4.1->tensorboard~=2.5->tensorflow) (3.1.1)\n",
            "Requirement already satisfied: pyasn1>=0.1.3 in /usr/local/lib/python3.7/dist-packages (from rsa<5,>=3.1.4; python_version >= \"3.6\"->google-auth<2,>=1.6.3->tensorboard~=2.5->tensorflow) (0.4.8)\n",
            "Requirement already satisfied: keras in /usr/local/lib/python3.7/dist-packages (2.4.3)\n",
            "Requirement already satisfied: numpy>=1.9.1 in /usr/local/lib/python3.7/dist-packages (from keras) (1.19.5)\n",
            "Requirement already satisfied: pyyaml in /usr/local/lib/python3.7/dist-packages (from keras) (3.13)\n",
            "Requirement already satisfied: h5py in /usr/local/lib/python3.7/dist-packages (from keras) (3.1.0)\n",
            "Requirement already satisfied: scipy>=0.14 in /usr/local/lib/python3.7/dist-packages (from keras) (1.4.1)\n",
            "Requirement already satisfied: cached-property; python_version < \"3.8\" in /usr/local/lib/python3.7/dist-packages (from h5py->keras) (1.5.2)\n"
          ],
          "name": "stdout"
        }
      ]
    },
    {
      "cell_type": "markdown",
      "metadata": {
        "id": "1Mp1ajPahIkr"
      },
      "source": [
        "Importing the packages you need for the model:"
      ]
    },
    {
      "cell_type": "code",
      "metadata": {
        "id": "Y3wrGEA5Wktx"
      },
      "source": [
        "# keras module for building LSTM \n",
        "from keras.preprocessing.sequence import pad_sequences\n",
        "from keras.layers import Embedding, LSTM, Dense, Dropout\n",
        "from keras.preprocessing.text import Tokenizer\n",
        "from keras.callbacks import EarlyStopping\n",
        "from keras.models import Sequential\n",
        "from tensorflow.keras.utils import to_categorical\n",
        "import keras.utils as ku \n",
        "from keras.callbacks import ModelCheckpoint\n",
        "\n",
        "# set seeds for reproducability\n",
        "#from tensorflow import set_random_seed\n",
        "#from numpy.random import seed\n",
        "#set_random_seed(2)\n",
        "#seed(1)\n",
        "\n",
        "import pandas as pd\n",
        "import numpy as np\n",
        "import string, os \n",
        "\n",
        "import warnings\n",
        "warnings.filterwarnings(\"ignore\")\n",
        "warnings.simplefilter(action='ignore', category=FutureWarning)"
      ],
      "execution_count": 23,
      "outputs": []
    },
    {
      "cell_type": "markdown",
      "metadata": {
        "id": "o49lwiowhqUl"
      },
      "source": [
        "###Reading in the text\n",
        "\n",
        "For the purposes of testing out the LTSM model, I'm just going to load in a fairly small sample of the listings I have available:"
      ]
    },
    {
      "cell_type": "code",
      "metadata": {
        "id": "WgxX49pZhtQT"
      },
      "source": [
        "with open(\"/content/drive/MyDrive/Listings/sample_text7.txt\",\"r\") as file:\n",
        "  text = file.read()\n",
        "\n",
        "listings = text.split(\"\\n\")"
      ],
      "execution_count": 3,
      "outputs": []
    },
    {
      "cell_type": "code",
      "metadata": {
        "colab": {
          "base_uri": "https://localhost:8080/"
        },
        "id": "epesfCP4iwWl",
        "outputId": "ba3130b2-19e8-47d4-8318-64db1a018613"
      },
      "source": [
        "for n in range(0,10):\n",
        "  print(listings[n])"
      ],
      "execution_count": 4,
      "outputs": [
        {
          "output_type": "stream",
          "text": [
            "Investors take notice! Great investment!!! 3 family property with a 2 family, side by side, 3 bedrooms each unit and 1277 sqft per unit and a single family home with 4 bedrooms and 1224 sqft. Gas heat, newer boilers. Electrical has been updated.  Income $2900 per month. Needing  TLC. Will not pass FHA.  Taxes will be +-6000 when the property is divided\n",
            "Welcome to Silvermine.  Conveniently located; although situated on a private lane.  Beautifully manicured and landscaped level lot.   The updated kitchen with propane cooking is ready for gatherings.  Recently paved driveway and new siding.  During the warmer months, enjoy the spacious deck, large yard for entertaining and during the cooler months retreat to the warmth of the fireplace.  A finished upper level that features a half bath and laundry, easily convert to a master suite.  A Must See!     All new windows & screens   New vinyl siding with added insulation  Insulation between walls & in crawl space  Brand new deck (2019)  Newly paved circular driveway (Fall 2018)  Sealed chimney  Septic updated (within 5 years)Bedroom closets enlarged, California Closets installed (2019)  Upstairs plumbed for shower   New HVAC C/AC Unit being installed now.\n",
            "You will LOVE seeing this fabulous colonial nestled on a quiet street in the Duffy school neighborhood.  Even Hollywood producers agree it's a wonderful street as the movie filmed in West Hartford was shooting scenes right across from their front door last week!  Close to everything you want including WeHa Center and Route 84 but feels like you are far away from the hustle and bustle.  Many updates make this house easy to love including two updated baths and a large and happy family room addition that makes life and entertaining easy!  Beautiful glass sliders lead you out to a large Trex deck with easy access to the fenced in level yard.  You can relax on the deck in the sun while your pup plays in the backyard.  For those of you more interested in the behind the scenes of the house, you might want to know there are newer windows, a brand new updated electrical panel and one of the \"best looking\" new high efficiency heating systems in town!\n",
            "This extraordinary, one-of-a-kind estate is situated on 4 acres of complete privacy on Beachside Avenue. Located between Burying Hill and Southport beaches, both are only a few minutes walk from your gated front entry offering the best of the Gold Coast – complete privacy with on foot beach access plus seasonal views of the Long Island Sound. Originally part of the JC Penney estate, the home has been fully updated maintaining the original architecture while delivering a brand-new home infused with organic modern style. Large open spaces marry with intimate rooms and abundant stained wood casement windows and French doors open to expansive views of nature on all sides. The home boasts a dream kitchen, wet bar and pantry by Kitchens by Deane, 6 bedrooms, gym, mud room, wine cellar, play room, large library office, multiple living spaces, a lavish master spa-like bathroom and full-home generator. The exterior of the home is equally impressive beginning with a full custom outdoor kitchen housed under an enormous outdoor pergola with automatic shades and canopy. Sit in your Adirondack chairs in front of your fire wall overlooking your private pond or lounge in the multiple seating areas next to your 60’ gunite pool and jacuzzi. There is also your har-tru tennis court and a gorgeously designed vegetable and cut flower garden. Feel like you are on vacation every day from your own private estate.\n",
            "Located on a quiet street just one minute from Rt 8, easy on/off highway access, this home has tons of potential. One level living, beautiful hardwood floors, three bedrooms, eat-in kitchen, full basement allows for an additional bedroom, office space or family room and one car garage. Working Ring system in place and also has security system in place that is not in service. Plenty of room available in the back yard for gardening, gatherings and more. Just waiting for your personal touch!\n",
            "STUNNING AND UNIQUE WELL MAINTAINED HOME WITH POOL AND MANY AMENITIES WHICH MAKE IT IDEAL FOR ENTERTAINING. LARGE LIVING ROOM HAS CATHEDRAL CEILING, WETBAR, GAS LOG FIREPLACE, ENTERTAINMENT CENTER & FRENCH DOORS. KITCHEN HAS WOLF 6-BURNER DUAL-FUEL DBL RANGE W/GRILL & WOLF OVERHEAD EXHAUST, ALL STAINLESS APPLIANCES FOR GOURMET COOKING! MAIN HOUSE HAS 3 BR. IMPRESSIVE MASTER BEDROOM SUITE W/RANDOM-WIDTH WOOD FLOORS. TILED MASTER BATH COMES WITH WHIRLPOOL & DOUBLE SHOWER W/STEAM. APARTMENT W/SEPARATE ENTRY HAS 2 BR, STAINLESS APPLIANCES, STACKABLE W/D WHICH IS IDEAL FOR AU PAIR OR IN-LAWS! PARTIALLY FINISHED BASEMENT ALSO HAS WETBAR & WINE CELLAR. OVERSIZE FREE-FORM DECK IS PERFECT FOR LARGE GROUPS & HAS PAVER PATIO W/GAZEBO & GAS GRILL. DECORATIVE SECURITY FENCING SURROUNDS LARGE IN-GROUND POOL & SCREENED CABANA W/NEW CEDAR SHINGLE ROOF. SEPARATE WELL FOR POOL. GORGEOUS PROFESSIONAL LANDSCAPING IN A BEAUTIFUL WOODED SETTING MAKES THIS LOVELY HOME VERY DESIREABLE & PRIVATE. SLATE CAPPED CHIMNEYS. LARGE CIRCULAR DRIVEWAY ALLOWS FOR ABUNDANT PARKING WITH 3-CAR GARAGE. SECURITY CAMERAS & DRIVEWAY ALERT. BRAND NEW SEPTIC TANK, WHOLE HOUSE GENERATOR & 80-GALLON GAS WATER HEATER! GREAT STORAGE THROUGHOUT HOME. FARMINGTON MEMORIAL TOWN FOREST IS ACROSS THE ROAD. RAILS TO TRAILS NEARBY FOR WALKING/BIKING. CLOSE PROXIMITY TO 84, UCONN MEDICALCENTER, & SHOPPING. OWNER AGENT.\n",
            "Enter from the long driveway to this hidden gem on the east side. Cute and cozy ranch with 3 beds and 1.5 baths on almost a full, peaceful acre. Recently revived with new roof, siding, windows and electrical service. New baths, kitchen, flooring and almost all new wiring and plumbing. But wait..completely new septic system and well (with the exception of the the drilling). Water test results are available too! Basement and garage have low ceiling clearance but the basement is great for storage. Broker has ownership interest.\n",
            "Don't miss this rare opportunity for an exquisite and unique Raised Ranch with every luxurious feature! A gorgeous updated kitchen complete with granite, stainless steel appliances, tile back splash, pot filler, wine refrigerator and breakfast bar. A spacious covered porch, deck, patio and beautiful sunroom compliment the private and picturesque backyard complete with a Koi pond. 2 Fireplaces and a lower level with a large screen TV perfect for entertaining or quiet movie nights! An oversized 2 car garage, updated electric system and so much more. Don't wait, make this your home for summer!\n",
            "First floor , 1 bed, 1 bath, L/R combined with D/R. Open floor plan. Deck off the L/R. Complex has inground pool. Assigned parking space # 87 and large guest parking. Coin operated  laundry on the same floor.\n",
            "WELL MAINTAINED RANCH STYLE HOME IN TOWN PLATT.  3 BEDS 2 BATHS.  VINYL SIDING AND THERMAL PANE WINDOWS.  2 CAR DETACHED GARAGE.  UPDATED KITCHEN WITH NEW FLOORING, STAINLESS STEEL APPLIANCES, AND PLENTY OF CABINETRY.  BEAUTIFUL HARDWOOD FLOORS.  FORMAL DINING ROOM.  REMODELED BATHROOM ON MAIN LEVEL!  BASEMENT WAS FINISHED OFF AT ONE POINT IN TIME, IT JUST NEEDS YOUR MINOR TOUCH UP AND THIS COULD BE AN ADDITONAL 1000 SF OF LIVING SPACE.  FULL BATH IN LOWER LEVEL.  ENCLOSED REAR PORCH.  C/A IS A HUGE BONUS!\n"
          ],
          "name": "stdout"
        }
      ]
    },
    {
      "cell_type": "markdown",
      "metadata": {
        "id": "Kv0L3rpWiWKW"
      },
      "source": [
        "###Cleaning the text"
      ]
    },
    {
      "cell_type": "markdown",
      "metadata": {
        "id": "bkRTBD5AqEQE"
      },
      "source": [
        "Right now, I'm just going to case-normalize the data before it gets tokenized and vectorized.  Probably I'll want to do more cleaning, but I'll hold off until the model is at least up and running a little bit, because there are some kind of weird choice points for this. "
      ]
    },
    {
      "cell_type": "code",
      "metadata": {
        "id": "GKgWCreQe3ZC"
      },
      "source": [
        "#Case normalize the text\n",
        "def clean_text(txt):\n",
        "    txt = \"\".join(v for v in txt if v not in string.punctuation).lower()\n",
        "    txt = txt.encode(\"utf8\").decode(\"ascii\",'ignore')\n",
        "    return txt \n",
        "\n",
        "#corpus = [clean_text(x) for x in all_headlines]\n",
        "#corpus[:10]"
      ],
      "execution_count": 5,
      "outputs": []
    },
    {
      "cell_type": "markdown",
      "metadata": {
        "id": "qTBgxLmqkLC2"
      },
      "source": [
        "There's a few things I'm going to want to remove here.  The biggest one is phone numbers. I'll come back to it.\n",
        "\n",
        "Also for the future: remove names of entities? Like, \"west hartford\" etc, since we only want those if the place is actually in west hartford."
      ]
    },
    {
      "cell_type": "code",
      "metadata": {
        "id": "K5fqcMwzjqch"
      },
      "source": [
        "\n",
        "def clean_text(txt):\n",
        "    txt = txt.lower()\n",
        "    txt = txt.encode(\"utf8\").decode(\"ascii\",'ignore')\n",
        "    return txt \n",
        "\n",
        "corpus = [clean_text(x) for x in listings]\n"
      ],
      "execution_count": 38,
      "outputs": []
    },
    {
      "cell_type": "markdown",
      "metadata": {
        "id": "ZtMOiYrjksOJ"
      },
      "source": [
        "###Tokenization"
      ]
    },
    {
      "cell_type": "markdown",
      "metadata": {
        "id": "TO-WghIYksD9"
      },
      "source": [
        "For now, I'll use this?  Eventually we'll want to have some kind of word 2 vec model."
      ]
    },
    {
      "cell_type": "code",
      "metadata": {
        "colab": {
          "base_uri": "https://localhost:8080/"
        },
        "id": "T0vcimhye4Ks",
        "outputId": "f8c8ac5c-7b34-401f-e4de-8d75f6920ac7"
      },
      "source": [
        "tokenizer = Tokenizer()\n",
        "\n",
        "def get_sequence_of_tokens(corpus):\n",
        "    ## tokenization\n",
        "    tokenizer.fit_on_texts(corpus)\n",
        "    total_words = len(tokenizer.word_index) + 1\n",
        "    \n",
        "    ## convert data to sequence of tokens \n",
        "    input_sequences = []\n",
        "    for line in corpus:\n",
        "        token_list = tokenizer.texts_to_sequences([line])[0]\n",
        "        for i in range(1, len(token_list)):\n",
        "            n_gram_sequence = token_list[:i+1]\n",
        "            input_sequences.append(n_gram_sequence)\n",
        "    return input_sequences, total_words\n",
        "\n",
        "inp_sequences, total_words = get_sequence_of_tokens(corpus)\n",
        "inp_sequences[:10]"
      ],
      "execution_count": 7,
      "outputs": [
        {
          "output_type": "execute_result",
          "data": {
            "text/plain": [
              "[[654, 328],\n",
              " [654, 328, 771],\n",
              " [654, 328, 771, 50],\n",
              " [654, 328, 771, 50, 470],\n",
              " [654, 328, 771, 50, 470, 33],\n",
              " [654, 328, 771, 50, 470, 33, 32],\n",
              " [654, 328, 771, 50, 470, 33, 32, 58],\n",
              " [654, 328, 771, 50, 470, 33, 32, 58, 4],\n",
              " [654, 328, 771, 50, 470, 33, 32, 58, 4, 3],\n",
              " [654, 328, 771, 50, 470, 33, 32, 58, 4, 3, 17]]"
            ]
          },
          "metadata": {
            "tags": []
          },
          "execution_count": 7
        }
      ]
    },
    {
      "cell_type": "markdown",
      "metadata": {
        "id": "NeGpaf4ak7DU"
      },
      "source": [
        "###Padding sentences"
      ]
    },
    {
      "cell_type": "code",
      "metadata": {
        "id": "opOBPGT0fJkn"
      },
      "source": [
        "#Padding sentences\n",
        "def generate_padded_sequences(input_sequences):\n",
        "    max_sequence_len = max([len(x) for x in input_sequences])\n",
        "    input_sequences = np.array(pad_sequences(input_sequences, maxlen=max_sequence_len, padding='pre'))\n",
        "    \n",
        "    predictors, label = input_sequences[:,:-1],input_sequences[:,-1]\n",
        "    label = to_categorical(label, num_classes=total_words)\n",
        "    return predictors, label, max_sequence_len\n",
        "\n",
        "predictors, label, max_sequence_len = generate_padded_sequences(inp_sequences)"
      ],
      "execution_count": 10,
      "outputs": []
    },
    {
      "cell_type": "markdown",
      "metadata": {
        "id": "3SI70ieGtsms"
      },
      "source": [
        "###Defining the model\n",
        "\n",
        "One thing I'm noticing is that this model takes a long time to train, but isn't saving the weights anywhere.  We're going to want to save those weights to use later, or in case anything goes wrong. "
      ]
    },
    {
      "cell_type": "code",
      "metadata": {
        "colab": {
          "base_uri": "https://localhost:8080/"
        },
        "id": "QJ-MpmpDfNDc",
        "outputId": "862e376a-2387-4781-a70f-de8afc1f8702"
      },
      "source": [
        "#defining the keras model\n",
        "def create_model(max_sequence_len, total_words):\n",
        "    input_len = max_sequence_len - 1\n",
        "    model = Sequential()\n",
        "    \n",
        "    # Add Input Embedding Layer\n",
        "    model.add(Embedding(total_words, 10, input_length=input_len))\n",
        "    \n",
        "    # Add Hidden Layer 1 - LSTM Layer\n",
        "    model.add(LSTM(100))\n",
        "    model.add(Dropout(0.1))\n",
        "    \n",
        "    # Add Output Layer\n",
        "    model.add(Dense(total_words, activation='softmax'))\n",
        "\n",
        "    model.compile(loss='categorical_crossentropy', optimizer='adam')\n",
        "    \n",
        "    return model\n",
        "\n",
        "model = create_model(max_sequence_len, total_words)\n",
        "model.summary()"
      ],
      "execution_count": 39,
      "outputs": [
        {
          "output_type": "stream",
          "text": [
            "Model: \"sequential_4\"\n",
            "_________________________________________________________________\n",
            "Layer (type)                 Output Shape              Param #   \n",
            "=================================================================\n",
            "embedding_4 (Embedding)      (None, 813, 10)           68920     \n",
            "_________________________________________________________________\n",
            "lstm_4 (LSTM)                (None, 100)               44400     \n",
            "_________________________________________________________________\n",
            "dropout_4 (Dropout)          (None, 100)               0         \n",
            "_________________________________________________________________\n",
            "dense_4 (Dense)              (None, 6892)              696092    \n",
            "=================================================================\n",
            "Total params: 809,412\n",
            "Trainable params: 809,412\n",
            "Non-trainable params: 0\n",
            "_________________________________________________________________\n"
          ],
          "name": "stdout"
        }
      ]
    },
    {
      "cell_type": "code",
      "metadata": {
        "id": "cFOM3whyylRd"
      },
      "source": [
        "checkpoint = ModelCheckpoint(\"/content/drive/MyDrive/Listings/weights/best_weights\", monitor='loss', verbose=1,\n",
        "    save_best_only=True, mode='auto', save_freq=1000)"
      ],
      "execution_count": 36,
      "outputs": []
    },
    {
      "cell_type": "code",
      "metadata": {
        "colab": {
          "base_uri": "https://localhost:8080/"
        },
        "id": "Pf5Qirp9hcE9",
        "outputId": "e0219224-4eac-475a-c5b1-d44aff05e287"
      },
      "source": [
        "#training the model\n",
        "model.fit(predictors, label, epochs=10, callbacks=[checkpoint])\n",
        "\n"
      ],
      "execution_count": 37,
      "outputs": [
        {
          "output_type": "stream",
          "text": [
            "Epoch 1/10\n",
            "1000/4247 [======>.......................] - ETA: 2:03 - loss: 5.9447\n",
            "Epoch 00001: loss improved from inf to 5.90839, saving model to /content/drive/MyDrive/Listings/weights/best_weights\n"
          ],
          "name": "stdout"
        },
        {
          "output_type": "stream",
          "text": [
            "WARNING:absl:Found untraced functions such as lstm_cell_3_layer_call_fn, lstm_cell_3_layer_call_and_return_conditional_losses, lstm_cell_3_layer_call_fn, lstm_cell_3_layer_call_and_return_conditional_losses, lstm_cell_3_layer_call_and_return_conditional_losses while saving (showing 5 of 5). These functions will not be directly callable after loading.\n"
          ],
          "name": "stderr"
        },
        {
          "output_type": "stream",
          "text": [
            "INFO:tensorflow:Assets written to: /content/drive/MyDrive/Listings/weights/best_weights/assets\n"
          ],
          "name": "stdout"
        },
        {
          "output_type": "stream",
          "text": [
            "INFO:tensorflow:Assets written to: /content/drive/MyDrive/Listings/weights/best_weights/assets\n"
          ],
          "name": "stderr"
        },
        {
          "output_type": "stream",
          "text": [
            "1999/4247 [=============>................] - ETA: 1:29 - loss: 5.9103\n",
            "Epoch 00001: loss improved from 5.90839 to 5.84329, saving model to /content/drive/MyDrive/Listings/weights/best_weights\n"
          ],
          "name": "stdout"
        },
        {
          "output_type": "stream",
          "text": [
            "WARNING:absl:Found untraced functions such as lstm_cell_3_layer_call_fn, lstm_cell_3_layer_call_and_return_conditional_losses, lstm_cell_3_layer_call_fn, lstm_cell_3_layer_call_and_return_conditional_losses, lstm_cell_3_layer_call_and_return_conditional_losses while saving (showing 5 of 5). These functions will not be directly callable after loading.\n"
          ],
          "name": "stderr"
        },
        {
          "output_type": "stream",
          "text": [
            "INFO:tensorflow:Assets written to: /content/drive/MyDrive/Listings/weights/best_weights/assets\n"
          ],
          "name": "stdout"
        },
        {
          "output_type": "stream",
          "text": [
            "INFO:tensorflow:Assets written to: /content/drive/MyDrive/Listings/weights/best_weights/assets\n"
          ],
          "name": "stderr"
        },
        {
          "output_type": "stream",
          "text": [
            "2999/4247 [====================>.........] - ETA: 50s - loss: 5.8796\n",
            "Epoch 00001: loss improved from 5.84329 to 5.78936, saving model to /content/drive/MyDrive/Listings/weights/best_weights\n"
          ],
          "name": "stdout"
        },
        {
          "output_type": "stream",
          "text": [
            "WARNING:absl:Found untraced functions such as lstm_cell_3_layer_call_fn, lstm_cell_3_layer_call_and_return_conditional_losses, lstm_cell_3_layer_call_fn, lstm_cell_3_layer_call_and_return_conditional_losses, lstm_cell_3_layer_call_and_return_conditional_losses while saving (showing 5 of 5). These functions will not be directly callable after loading.\n"
          ],
          "name": "stderr"
        },
        {
          "output_type": "stream",
          "text": [
            "INFO:tensorflow:Assets written to: /content/drive/MyDrive/Listings/weights/best_weights/assets\n"
          ],
          "name": "stdout"
        },
        {
          "output_type": "stream",
          "text": [
            "INFO:tensorflow:Assets written to: /content/drive/MyDrive/Listings/weights/best_weights/assets\n"
          ],
          "name": "stderr"
        },
        {
          "output_type": "stream",
          "text": [
            "3999/4247 [===========================>..] - ETA: 10s - loss: 5.8517\n",
            "Epoch 00001: loss improved from 5.78936 to 5.74569, saving model to /content/drive/MyDrive/Listings/weights/best_weights\n"
          ],
          "name": "stdout"
        },
        {
          "output_type": "stream",
          "text": [
            "WARNING:absl:Found untraced functions such as lstm_cell_3_layer_call_fn, lstm_cell_3_layer_call_and_return_conditional_losses, lstm_cell_3_layer_call_fn, lstm_cell_3_layer_call_and_return_conditional_losses, lstm_cell_3_layer_call_and_return_conditional_losses while saving (showing 5 of 5). These functions will not be directly callable after loading.\n"
          ],
          "name": "stderr"
        },
        {
          "output_type": "stream",
          "text": [
            "INFO:tensorflow:Assets written to: /content/drive/MyDrive/Listings/weights/best_weights/assets\n"
          ],
          "name": "stdout"
        },
        {
          "output_type": "stream",
          "text": [
            "INFO:tensorflow:Assets written to: /content/drive/MyDrive/Listings/weights/best_weights/assets\n"
          ],
          "name": "stderr"
        },
        {
          "output_type": "stream",
          "text": [
            "4247/4247 [==============================] - 179s 42ms/step - loss: 5.8451\n",
            "Epoch 2/10\n",
            " 752/4247 [====>.........................] - ETA: 2:12 - loss: 5.3902\n",
            "Epoch 00002: loss improved from 5.74569 to 5.34041, saving model to /content/drive/MyDrive/Listings/weights/best_weights\n"
          ],
          "name": "stdout"
        },
        {
          "output_type": "stream",
          "text": [
            "WARNING:absl:Found untraced functions such as lstm_cell_3_layer_call_fn, lstm_cell_3_layer_call_and_return_conditional_losses, lstm_cell_3_layer_call_fn, lstm_cell_3_layer_call_and_return_conditional_losses, lstm_cell_3_layer_call_and_return_conditional_losses while saving (showing 5 of 5). These functions will not be directly callable after loading.\n"
          ],
          "name": "stderr"
        },
        {
          "output_type": "stream",
          "text": [
            "INFO:tensorflow:Assets written to: /content/drive/MyDrive/Listings/weights/best_weights/assets\n"
          ],
          "name": "stdout"
        },
        {
          "output_type": "stream",
          "text": [
            "INFO:tensorflow:Assets written to: /content/drive/MyDrive/Listings/weights/best_weights/assets\n"
          ],
          "name": "stderr"
        },
        {
          "output_type": "stream",
          "text": [
            "1752/4247 [===========>..................] - ETA: 1:40 - loss: 5.3510\n",
            "Epoch 00002: loss improved from 5.34041 to 5.30896, saving model to /content/drive/MyDrive/Listings/weights/best_weights\n"
          ],
          "name": "stdout"
        },
        {
          "output_type": "stream",
          "text": [
            "WARNING:absl:Found untraced functions such as lstm_cell_3_layer_call_fn, lstm_cell_3_layer_call_and_return_conditional_losses, lstm_cell_3_layer_call_fn, lstm_cell_3_layer_call_and_return_conditional_losses, lstm_cell_3_layer_call_and_return_conditional_losses while saving (showing 5 of 5). These functions will not be directly callable after loading.\n"
          ],
          "name": "stderr"
        },
        {
          "output_type": "stream",
          "text": [
            "INFO:tensorflow:Assets written to: /content/drive/MyDrive/Listings/weights/best_weights/assets\n"
          ],
          "name": "stdout"
        },
        {
          "output_type": "stream",
          "text": [
            "INFO:tensorflow:Assets written to: /content/drive/MyDrive/Listings/weights/best_weights/assets\n"
          ],
          "name": "stderr"
        },
        {
          "output_type": "stream",
          "text": [
            "2753/4247 [==================>...........] - ETA: 1:01 - loss: 5.3315\n",
            "Epoch 00002: loss improved from 5.30896 to 5.28401, saving model to /content/drive/MyDrive/Listings/weights/best_weights\n"
          ],
          "name": "stdout"
        },
        {
          "output_type": "stream",
          "text": [
            "WARNING:absl:Found untraced functions such as lstm_cell_3_layer_call_fn, lstm_cell_3_layer_call_and_return_conditional_losses, lstm_cell_3_layer_call_fn, lstm_cell_3_layer_call_and_return_conditional_losses, lstm_cell_3_layer_call_and_return_conditional_losses while saving (showing 5 of 5). These functions will not be directly callable after loading.\n"
          ],
          "name": "stderr"
        },
        {
          "output_type": "stream",
          "text": [
            "INFO:tensorflow:Assets written to: /content/drive/MyDrive/Listings/weights/best_weights/assets\n"
          ],
          "name": "stdout"
        },
        {
          "output_type": "stream",
          "text": [
            "INFO:tensorflow:Assets written to: /content/drive/MyDrive/Listings/weights/best_weights/assets\n"
          ],
          "name": "stderr"
        },
        {
          "output_type": "stream",
          "text": [
            "3753/4247 [=========================>....] - ETA: 20s - loss: 5.3158\n",
            "Epoch 00002: loss improved from 5.28401 to 5.26390, saving model to /content/drive/MyDrive/Listings/weights/best_weights\n"
          ],
          "name": "stdout"
        },
        {
          "output_type": "stream",
          "text": [
            "WARNING:absl:Found untraced functions such as lstm_cell_3_layer_call_fn, lstm_cell_3_layer_call_and_return_conditional_losses, lstm_cell_3_layer_call_fn, lstm_cell_3_layer_call_and_return_conditional_losses, lstm_cell_3_layer_call_and_return_conditional_losses while saving (showing 5 of 5). These functions will not be directly callable after loading.\n"
          ],
          "name": "stderr"
        },
        {
          "output_type": "stream",
          "text": [
            "INFO:tensorflow:Assets written to: /content/drive/MyDrive/Listings/weights/best_weights/assets\n"
          ],
          "name": "stdout"
        },
        {
          "output_type": "stream",
          "text": [
            "INFO:tensorflow:Assets written to: /content/drive/MyDrive/Listings/weights/best_weights/assets\n"
          ],
          "name": "stderr"
        },
        {
          "output_type": "stream",
          "text": [
            "4247/4247 [==============================] - 177s 42ms/step - loss: 5.3089\n",
            "Epoch 3/10\n",
            " 505/4247 [==>...........................] - ETA: 2:22 - loss: 4.9818\n",
            "Epoch 00003: loss improved from 5.26390 to 4.96550, saving model to /content/drive/MyDrive/Listings/weights/best_weights\n"
          ],
          "name": "stdout"
        },
        {
          "output_type": "stream",
          "text": [
            "WARNING:absl:Found untraced functions such as lstm_cell_3_layer_call_fn, lstm_cell_3_layer_call_and_return_conditional_losses, lstm_cell_3_layer_call_fn, lstm_cell_3_layer_call_and_return_conditional_losses, lstm_cell_3_layer_call_and_return_conditional_losses while saving (showing 5 of 5). These functions will not be directly callable after loading.\n"
          ],
          "name": "stderr"
        },
        {
          "output_type": "stream",
          "text": [
            "INFO:tensorflow:Assets written to: /content/drive/MyDrive/Listings/weights/best_weights/assets\n"
          ],
          "name": "stdout"
        },
        {
          "output_type": "stream",
          "text": [
            "INFO:tensorflow:Assets written to: /content/drive/MyDrive/Listings/weights/best_weights/assets\n"
          ],
          "name": "stderr"
        },
        {
          "output_type": "stream",
          "text": [
            "1505/4247 [=========>....................] - ETA: 1:51 - loss: 4.9720\n",
            "Epoch 00003: loss did not improve from 4.96550\n",
            "2505/4247 [================>.............] - ETA: 1:08 - loss: 4.9672\n",
            "Epoch 00003: loss improved from 4.96550 to 4.95574, saving model to /content/drive/MyDrive/Listings/weights/best_weights\n"
          ],
          "name": "stdout"
        },
        {
          "output_type": "stream",
          "text": [
            "WARNING:absl:Found untraced functions such as lstm_cell_3_layer_call_fn, lstm_cell_3_layer_call_and_return_conditional_losses, lstm_cell_3_layer_call_fn, lstm_cell_3_layer_call_and_return_conditional_losses, lstm_cell_3_layer_call_and_return_conditional_losses while saving (showing 5 of 5). These functions will not be directly callable after loading.\n"
          ],
          "name": "stderr"
        },
        {
          "output_type": "stream",
          "text": [
            "INFO:tensorflow:Assets written to: /content/drive/MyDrive/Listings/weights/best_weights/assets\n"
          ],
          "name": "stdout"
        },
        {
          "output_type": "stream",
          "text": [
            "INFO:tensorflow:Assets written to: /content/drive/MyDrive/Listings/weights/best_weights/assets\n"
          ],
          "name": "stderr"
        },
        {
          "output_type": "stream",
          "text": [
            "3505/4247 [=======================>......] - ETA: 29s - loss: 4.9621\n",
            "Epoch 00003: loss improved from 4.95574 to 4.94321, saving model to /content/drive/MyDrive/Listings/weights/best_weights\n"
          ],
          "name": "stdout"
        },
        {
          "output_type": "stream",
          "text": [
            "WARNING:absl:Found untraced functions such as lstm_cell_3_layer_call_fn, lstm_cell_3_layer_call_and_return_conditional_losses, lstm_cell_3_layer_call_fn, lstm_cell_3_layer_call_and_return_conditional_losses, lstm_cell_3_layer_call_and_return_conditional_losses while saving (showing 5 of 5). These functions will not be directly callable after loading.\n"
          ],
          "name": "stderr"
        },
        {
          "output_type": "stream",
          "text": [
            "INFO:tensorflow:Assets written to: /content/drive/MyDrive/Listings/weights/best_weights/assets\n"
          ],
          "name": "stdout"
        },
        {
          "output_type": "stream",
          "text": [
            "INFO:tensorflow:Assets written to: /content/drive/MyDrive/Listings/weights/best_weights/assets\n"
          ],
          "name": "stderr"
        },
        {
          "output_type": "stream",
          "text": [
            "4247/4247 [==============================] - 173s 41ms/step - loss: 4.9579\n",
            "Epoch 4/10\n",
            " 259/4247 [>.............................] - ETA: 2:31 - loss: 4.7155\n",
            "Epoch 00004: loss improved from 4.94321 to 4.70982, saving model to /content/drive/MyDrive/Listings/weights/best_weights\n"
          ],
          "name": "stdout"
        },
        {
          "output_type": "stream",
          "text": [
            "WARNING:absl:Found untraced functions such as lstm_cell_3_layer_call_fn, lstm_cell_3_layer_call_and_return_conditional_losses, lstm_cell_3_layer_call_fn, lstm_cell_3_layer_call_and_return_conditional_losses, lstm_cell_3_layer_call_and_return_conditional_losses while saving (showing 5 of 5). These functions will not be directly callable after loading.\n"
          ],
          "name": "stderr"
        },
        {
          "output_type": "stream",
          "text": [
            "INFO:tensorflow:Assets written to: /content/drive/MyDrive/Listings/weights/best_weights/assets\n"
          ],
          "name": "stdout"
        },
        {
          "output_type": "stream",
          "text": [
            "INFO:tensorflow:Assets written to: /content/drive/MyDrive/Listings/weights/best_weights/assets\n"
          ],
          "name": "stderr"
        },
        {
          "output_type": "stream",
          "text": [
            "1259/4247 [=======>......................] - ETA: 2:03 - loss: 4.6899\n",
            "Epoch 00004: loss improved from 4.70982 to 4.68123, saving model to /content/drive/MyDrive/Listings/weights/best_weights\n"
          ],
          "name": "stdout"
        },
        {
          "output_type": "stream",
          "text": [
            "WARNING:absl:Found untraced functions such as lstm_cell_3_layer_call_fn, lstm_cell_3_layer_call_and_return_conditional_losses, lstm_cell_3_layer_call_fn, lstm_cell_3_layer_call_and_return_conditional_losses, lstm_cell_3_layer_call_and_return_conditional_losses while saving (showing 5 of 5). These functions will not be directly callable after loading.\n"
          ],
          "name": "stderr"
        },
        {
          "output_type": "stream",
          "text": [
            "INFO:tensorflow:Assets written to: /content/drive/MyDrive/Listings/weights/best_weights/assets\n"
          ],
          "name": "stdout"
        },
        {
          "output_type": "stream",
          "text": [
            "INFO:tensorflow:Assets written to: /content/drive/MyDrive/Listings/weights/best_weights/assets\n"
          ],
          "name": "stderr"
        },
        {
          "output_type": "stream",
          "text": [
            "2258/4247 [==============>...............] - ETA: 1:22 - loss: 4.6861\n",
            "Epoch 00004: loss did not improve from 4.68123\n",
            "3258/4247 [======================>.......] - ETA: 40s - loss: 4.6887\n",
            "Epoch 00004: loss did not improve from 4.68123\n",
            "4247/4247 [==============================] - 170s 40ms/step - loss: 4.6910\n",
            "Epoch 5/10\n",
            "  11/4247 [..............................] - ETA: 2:40 - loss: 4.6093\n",
            "Epoch 00005: loss improved from 4.68123 to 4.54323, saving model to /content/drive/MyDrive/Listings/weights/best_weights\n"
          ],
          "name": "stdout"
        },
        {
          "output_type": "stream",
          "text": [
            "WARNING:absl:Found untraced functions such as lstm_cell_3_layer_call_fn, lstm_cell_3_layer_call_and_return_conditional_losses, lstm_cell_3_layer_call_fn, lstm_cell_3_layer_call_and_return_conditional_losses, lstm_cell_3_layer_call_and_return_conditional_losses while saving (showing 5 of 5). These functions will not be directly callable after loading.\n"
          ],
          "name": "stderr"
        },
        {
          "output_type": "stream",
          "text": [
            "INFO:tensorflow:Assets written to: /content/drive/MyDrive/Listings/weights/best_weights/assets\n"
          ],
          "name": "stdout"
        },
        {
          "output_type": "stream",
          "text": [
            "INFO:tensorflow:Assets written to: /content/drive/MyDrive/Listings/weights/best_weights/assets\n"
          ],
          "name": "stderr"
        },
        {
          "output_type": "stream",
          "text": [
            "1011/4247 [======>.......................] - ETA: 2:14 - loss: 4.4686\n",
            "Epoch 00005: loss improved from 4.54323 to 4.47419, saving model to /content/drive/MyDrive/Listings/weights/best_weights\n"
          ],
          "name": "stdout"
        },
        {
          "output_type": "stream",
          "text": [
            "WARNING:absl:Found untraced functions such as lstm_cell_3_layer_call_fn, lstm_cell_3_layer_call_and_return_conditional_losses, lstm_cell_3_layer_call_fn, lstm_cell_3_layer_call_and_return_conditional_losses, lstm_cell_3_layer_call_and_return_conditional_losses while saving (showing 5 of 5). These functions will not be directly callable after loading.\n"
          ],
          "name": "stderr"
        },
        {
          "output_type": "stream",
          "text": [
            "INFO:tensorflow:Assets written to: /content/drive/MyDrive/Listings/weights/best_weights/assets\n"
          ],
          "name": "stdout"
        },
        {
          "output_type": "stream",
          "text": [
            "INFO:tensorflow:Assets written to: /content/drive/MyDrive/Listings/weights/best_weights/assets\n"
          ],
          "name": "stderr"
        },
        {
          "output_type": "stream",
          "text": [
            "2012/4247 [=============>................] - ETA: 1:34 - loss: 4.4758\n",
            "Epoch 00005: loss did not improve from 4.47419\n",
            "3011/4247 [====================>.........] - ETA: 50s - loss: 4.4827\n",
            "Epoch 00005: loss did not improve from 4.47419\n",
            "4012/4247 [===========================>..] - ETA: 9s - loss: 4.4897\n",
            "Epoch 00005: loss did not improve from 4.47419\n",
            "4247/4247 [==============================] - 170s 40ms/step - loss: 4.4911\n",
            "Epoch 6/10\n",
            " 765/4247 [====>.........................] - ETA: 2:12 - loss: 4.2785\n",
            "Epoch 00006: loss improved from 4.47419 to 4.29703, saving model to /content/drive/MyDrive/Listings/weights/best_weights\n"
          ],
          "name": "stdout"
        },
        {
          "output_type": "stream",
          "text": [
            "WARNING:absl:Found untraced functions such as lstm_cell_3_layer_call_fn, lstm_cell_3_layer_call_and_return_conditional_losses, lstm_cell_3_layer_call_fn, lstm_cell_3_layer_call_and_return_conditional_losses, lstm_cell_3_layer_call_and_return_conditional_losses while saving (showing 5 of 5). These functions will not be directly callable after loading.\n"
          ],
          "name": "stderr"
        },
        {
          "output_type": "stream",
          "text": [
            "INFO:tensorflow:Assets written to: /content/drive/MyDrive/Listings/weights/best_weights/assets\n"
          ],
          "name": "stdout"
        },
        {
          "output_type": "stream",
          "text": [
            "INFO:tensorflow:Assets written to: /content/drive/MyDrive/Listings/weights/best_weights/assets\n"
          ],
          "name": "stderr"
        },
        {
          "output_type": "stream",
          "text": [
            "1765/4247 [===========>..................] - ETA: 1:40 - loss: 4.2992\n",
            "Epoch 00006: loss did not improve from 4.29703\n",
            "2765/4247 [==================>...........] - ETA: 58s - loss: 4.3081\n",
            "Epoch 00006: loss did not improve from 4.29703\n",
            "3764/4247 [=========================>....] - ETA: 18s - loss: 4.3168\n",
            "Epoch 00006: loss did not improve from 4.29703\n",
            "4247/4247 [==============================] - 166s 39ms/step - loss: 4.3217\n",
            "Epoch 7/10\n",
            " 518/4247 [==>...........................] - ETA: 2:20 - loss: 4.1366\n",
            "Epoch 00007: loss improved from 4.29703 to 4.14345, saving model to /content/drive/MyDrive/Listings/weights/best_weights\n"
          ],
          "name": "stdout"
        },
        {
          "output_type": "stream",
          "text": [
            "WARNING:absl:Found untraced functions such as lstm_cell_3_layer_call_fn, lstm_cell_3_layer_call_and_return_conditional_losses, lstm_cell_3_layer_call_fn, lstm_cell_3_layer_call_and_return_conditional_losses, lstm_cell_3_layer_call_and_return_conditional_losses while saving (showing 5 of 5). These functions will not be directly callable after loading.\n"
          ],
          "name": "stderr"
        },
        {
          "output_type": "stream",
          "text": [
            "INFO:tensorflow:Assets written to: /content/drive/MyDrive/Listings/weights/best_weights/assets\n"
          ],
          "name": "stdout"
        },
        {
          "output_type": "stream",
          "text": [
            "INFO:tensorflow:Assets written to: /content/drive/MyDrive/Listings/weights/best_weights/assets\n"
          ],
          "name": "stderr"
        },
        {
          "output_type": "stream",
          "text": [
            "1518/4247 [=========>....................] - ETA: 1:49 - loss: 4.1517\n",
            "Epoch 00007: loss did not improve from 4.14345\n",
            "2517/4247 [================>.............] - ETA: 1:07 - loss: 4.1653\n",
            "Epoch 00007: loss did not improve from 4.14345\n",
            "3517/4247 [=======================>......] - ETA: 28s - loss: 4.1782\n",
            "Epoch 00007: loss did not improve from 4.14345\n",
            "4247/4247 [==============================] - 164s 39ms/step - loss: 4.1866\n",
            "Epoch 8/10\n",
            " 271/4247 [>.............................] - ETA: 2:29 - loss: 4.0402\n",
            "Epoch 00008: loss improved from 4.14345 to 4.02836, saving model to /content/drive/MyDrive/Listings/weights/best_weights\n"
          ],
          "name": "stdout"
        },
        {
          "output_type": "stream",
          "text": [
            "WARNING:absl:Found untraced functions such as lstm_cell_3_layer_call_fn, lstm_cell_3_layer_call_and_return_conditional_losses, lstm_cell_3_layer_call_fn, lstm_cell_3_layer_call_and_return_conditional_losses, lstm_cell_3_layer_call_and_return_conditional_losses while saving (showing 5 of 5). These functions will not be directly callable after loading.\n"
          ],
          "name": "stderr"
        },
        {
          "output_type": "stream",
          "text": [
            "INFO:tensorflow:Assets written to: /content/drive/MyDrive/Listings/weights/best_weights/assets\n"
          ],
          "name": "stdout"
        },
        {
          "output_type": "stream",
          "text": [
            "INFO:tensorflow:Assets written to: /content/drive/MyDrive/Listings/weights/best_weights/assets\n"
          ],
          "name": "stderr"
        },
        {
          "output_type": "stream",
          "text": [
            "1270/4247 [=======>......................] - ETA: 2:02 - loss: 4.0612\n",
            "Epoch 00008: loss did not improve from 4.02836\n",
            "2270/4247 [===============>..............] - ETA: 1:18 - loss: 4.0710\n",
            "Epoch 00008: loss did not improve from 4.02836\n",
            "3271/4247 [======================>.......] - ETA: 38s - loss: 4.0794\n",
            "Epoch 00008: loss did not improve from 4.02836\n",
            "4247/4247 [==============================] - 165s 39ms/step - loss: 4.0873\n",
            "Epoch 9/10\n",
            "  23/4247 [..............................] - ETA: 2:39 - loss: 3.8376\n",
            "Epoch 00009: loss improved from 4.02836 to 3.82431, saving model to /content/drive/MyDrive/Listings/weights/best_weights\n"
          ],
          "name": "stdout"
        },
        {
          "output_type": "stream",
          "text": [
            "WARNING:absl:Found untraced functions such as lstm_cell_3_layer_call_fn, lstm_cell_3_layer_call_and_return_conditional_losses, lstm_cell_3_layer_call_fn, lstm_cell_3_layer_call_and_return_conditional_losses, lstm_cell_3_layer_call_and_return_conditional_losses while saving (showing 5 of 5). These functions will not be directly callable after loading.\n"
          ],
          "name": "stderr"
        },
        {
          "output_type": "stream",
          "text": [
            "INFO:tensorflow:Assets written to: /content/drive/MyDrive/Listings/weights/best_weights/assets\n"
          ],
          "name": "stdout"
        },
        {
          "output_type": "stream",
          "text": [
            "INFO:tensorflow:Assets written to: /content/drive/MyDrive/Listings/weights/best_weights/assets\n"
          ],
          "name": "stderr"
        },
        {
          "output_type": "stream",
          "text": [
            "1023/4247 [======>.......................] - ETA: 2:14 - loss: 3.8854\n",
            "Epoch 00009: loss did not improve from 3.82431\n",
            "2024/4247 [=============>................] - ETA: 1:28 - loss: 3.9140\n",
            "Epoch 00009: loss did not improve from 3.82431\n",
            "3024/4247 [====================>.........] - ETA: 47s - loss: 3.9335\n",
            "Epoch 00009: loss did not improve from 3.82431\n",
            "4024/4247 [===========================>..] - ETA: 8s - loss: 3.9505\n",
            "Epoch 00009: loss did not improve from 3.82431\n",
            "4247/4247 [==============================] - 165s 39ms/step - loss: 3.9540\n",
            "Epoch 10/10\n",
            " 777/4247 [====>.........................] - ETA: 2:11 - loss: 3.8296\n",
            "Epoch 00010: loss did not improve from 3.82431\n",
            "1777/4247 [===========>..................] - ETA: 1:33 - loss: 3.8446\n",
            "Epoch 00010: loss did not improve from 3.82431\n",
            "2776/4247 [==================>...........] - ETA: 55s - loss: 3.8583\n",
            "Epoch 00010: loss did not improve from 3.82431\n",
            "3776/4247 [=========================>....] - ETA: 17s - loss: 3.8714\n",
            "Epoch 00010: loss did not improve from 3.82431\n",
            "4247/4247 [==============================] - 160s 38ms/step - loss: 3.8774\n"
          ],
          "name": "stdout"
        },
        {
          "output_type": "execute_result",
          "data": {
            "text/plain": [
              "<keras.callbacks.History at 0x7f9e3d2ef590>"
            ]
          },
          "metadata": {
            "tags": []
          },
          "execution_count": 37
        }
      ]
    },
    {
      "cell_type": "markdown",
      "metadata": {
        "id": "v_4C_kAp4sYf"
      },
      "source": [
        "There's warning here each time the model saves: \n",
        "$WARNING:absl:Found untraced functions such as lstm_cell_3_layer_call_fn, lstm_cell_3_layer_call_and_return_conditional_losses, lstm_cell_3_layer_call_fn, lstm_cell_3_layer_call_and_return_conditional_losses, lstm_cell_3_layer_call_and_return_conditional_losses while saving (showing 5 of 5). These functions will not be directly callable after loading.$\n",
        "\n",
        "I can't figure out exactly what this is, but there's a thread about it here: https://github.com/tensorflow/tensorflow/issues/47554\n",
        "\n",
        "It seems like an issue that needs to be fixed in the source code, so I'll keep an eye on it. In the meantime, the model still works, despite the warning. \n"
      ]
    },
    {
      "cell_type": "code",
      "metadata": {
        "colab": {
          "base_uri": "https://localhost:8080/"
        },
        "id": "cC5YAOZs1sYP",
        "outputId": "6b977db1-4215-4d9c-cee6-43041e316f13"
      },
      "source": [
        "#loading weights\n",
        "checkpoint_path = \"/content/drive/MyDrive/Listings/weights/best_weights\"\n",
        "model.load_weights(checkpoint_path)"
      ],
      "execution_count": 40,
      "outputs": [
        {
          "output_type": "execute_result",
          "data": {
            "text/plain": [
              "<tensorflow.python.training.tracking.util.CheckpointLoadStatus at 0x7f9e3e3cba10>"
            ]
          },
          "metadata": {
            "tags": []
          },
          "execution_count": 40
        }
      ]
    },
    {
      "cell_type": "code",
      "metadata": {
        "id": "uU96UW6bhjAj"
      },
      "source": [
        "#generating the text\n",
        "def generate_text(seed_text, next_words, model, max_sequence_len):\n",
        "    for _ in range(next_words):\n",
        "        token_list = tokenizer.texts_to_sequences([seed_text])[0]\n",
        "        token_list = pad_sequences([token_list], maxlen=max_sequence_len-1, padding='pre')\n",
        "        predicted = model.predict_classes(token_list, verbose=0)\n",
        "        \n",
        "        output_word = \"\"\n",
        "        for word,index in tokenizer.word_index.items():\n",
        "            if index == predicted:\n",
        "                output_word = word\n",
        "                break\n",
        "        seed_text += \" \"+output_word\n",
        "    return seed_text"
      ],
      "execution_count": 41,
      "outputs": []
    },
    {
      "cell_type": "code",
      "metadata": {
        "colab": {
          "base_uri": "https://localhost:8080/",
          "height": 140
        },
        "id": "eCEv5FqmuCfv",
        "outputId": "3948b327-9b06-423a-b02b-2c81187b0647"
      },
      "source": [
        "generate_text(\"Welcome to your new\",100,model,100)"
      ],
      "execution_count": 42,
      "outputs": [
        {
          "output_type": "stream",
          "text": [
            "WARNING:tensorflow:Model was constructed with shape (None, 813) for input KerasTensor(type_spec=TensorSpec(shape=(None, 813), dtype=tf.float32, name='embedding_4_input'), name='embedding_4_input', description=\"created by layer 'embedding_4_input'\"), but it was called on an input with incompatible shape (None, 99).\n"
          ],
          "name": "stdout"
        },
        {
          "output_type": "stream",
          "text": [
            "WARNING:tensorflow:Model was constructed with shape (None, 813) for input KerasTensor(type_spec=TensorSpec(shape=(None, 813), dtype=tf.float32, name='embedding_4_input'), name='embedding_4_input', description=\"created by layer 'embedding_4_input'\"), but it was called on an input with incompatible shape (None, 99).\n"
          ],
          "name": "stderr"
        },
        {
          "output_type": "execute_result",
          "data": {
            "application/vnd.google.colaboratory.intrinsic+json": {
              "type": "string"
            },
            "text/plain": [
              "'Welcome to your new home this home is a great location in the heart of downtown stamford and the home has been lovingly maintained and has a large living room with fireplace and a large kitchen with a breakfast bar and a breakfast bar and a breakfast bar and a breakfast bar and a large master bedroom with a full bath with a walk in closet and a full bath with a walk in closet and a full bath with a walk in closet and a full bath with a walk in closet and a full bath with a walk in closet and a'"
            ]
          },
          "metadata": {
            "tags": []
          },
          "execution_count": 42
        }
      ]
    },
    {
      "cell_type": "code",
      "metadata": {
        "id": "enDTtwX_uOGH"
      },
      "source": [
        ""
      ],
      "execution_count": null,
      "outputs": []
    }
  ]
}